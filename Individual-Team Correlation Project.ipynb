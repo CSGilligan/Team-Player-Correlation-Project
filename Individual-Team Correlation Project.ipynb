{
 "cells": [
  {
   "cell_type": "code",
   "execution_count": 155,
   "id": "c9f90e57",
   "metadata": {},
   "outputs": [],
   "source": [
    "import pandas as pd"
   ]
  },
  {
   "cell_type": "code",
   "execution_count": 142,
   "id": "73e6c9de",
   "metadata": {},
   "outputs": [],
   "source": [
    "# Read in Bogaerts csv\n",
    "df = pd.read_csv('Bogaerts_data.csv')"
   ]
  },
  {
   "cell_type": "code",
   "execution_count": 143,
   "id": "cd7cedd2",
   "metadata": {},
   "outputs": [],
   "source": [
    "# We have a ton of columns we won't use at all...let's get rid of them.\n",
    "df = df[df.columns.drop(['Inngs', 'Gcar', 'Tm', 'Unnamed: 0', 'Unnamed: 6', 'Opp', 'IBB', 'GDP', 'SB', 'CS', 'BOP', 'aLI', 'WPA', 'acLI', 'cWPA',\n",
    "       'RE24', 'DFS(DK)', 'DFS(FD)', 'Pos'])]"
   ]
  },
  {
   "cell_type": "code",
   "execution_count": 144,
   "id": "965ec1af",
   "metadata": {},
   "outputs": [],
   "source": [
    "# There are also a few rows in this csv that don't correspond to games. We want the ones that do.\n",
    "# First let's get rid of the NaNs in the Date column.\n",
    "df = df.dropna(subset=['Date'])"
   ]
  },
  {
   "cell_type": "code",
   "execution_count": 145,
   "id": "cf01bcb8",
   "metadata": {},
   "outputs": [],
   "source": [
    "# Next let's get rid of duplicate games. Game numbers are listed under the Rk column.\n",
    "df = df.drop_duplicates(subset=['Rk'])"
   ]
  },
  {
   "cell_type": "code",
   "execution_count": 146,
   "id": "9b86d492",
   "metadata": {},
   "outputs": [],
   "source": [
    "# Now, we want to change the team result column to 1 for wins and 0 for losses.\n",
    "# df[df['Rslt'].str.contains('W')].Rslt.replace(to_replace = 'W', value = 1, regex=True)\n",
    "df['Rslt'] = df['Rslt'].replace(to_replace = 'W', value = 1, regex=True).replace(to_replace = 'L', value = 0, regex=True)"
   ]
  },
  {
   "cell_type": "code",
   "execution_count": 147,
   "id": "256a9fd9",
   "metadata": {},
   "outputs": [],
   "source": [
    "# Now, we want to create a daily OPS column. \n",
    "# To avoid some confusing math formatting, let's create daily OBP and daily SLG and then we can just add them together.\n",
    "df['daily_OBP'] = (df.H + df.BB + df.HBP) / (df.AB + df.BB + df.HBP + df.SF)"
   ]
  },
  {
   "cell_type": "code",
   "execution_count": 148,
   "id": "86a4f758",
   "metadata": {},
   "outputs": [],
   "source": [
    "# To create daily SLG, we'll need singles (1B) and total bases (TB).\n",
    "df['1B'] = (df['H'] - df['2B'] - df['3B'])"
   ]
  },
  {
   "cell_type": "code",
   "execution_count": 149,
   "id": "fce9c072",
   "metadata": {},
   "outputs": [],
   "source": [
    "df['TB'] = (df['1B'] + 2*df['2B'] + 3*df['3B'] + 4*df['HR'])"
   ]
  },
  {
   "cell_type": "code",
   "execution_count": 150,
   "id": "97c3801a",
   "metadata": {},
   "outputs": [],
   "source": [
    "df['daily_SLG'] = df['TB'] / df['AB']"
   ]
  },
  {
   "cell_type": "code",
   "execution_count": 151,
   "id": "b7df79f9",
   "metadata": {},
   "outputs": [],
   "source": [
    "df['daily_OPS'] = df['daily_OBP'] + df['daily_SLG']"
   ]
  },
  {
   "cell_type": "code",
   "execution_count": 154,
   "id": "f50c76f2",
   "metadata": {},
   "outputs": [
    {
     "data": {
      "text/plain": [
       "0.3130822770279407"
      ]
     },
     "execution_count": 154,
     "metadata": {},
     "output_type": "execute_result"
    }
   ],
   "source": [
    "# Now let's find the correlation coefficient between team success and player success\n",
    "# Save this as TPC (Team-Player Correlation)\n",
    "tpc = df.Rslt.corr(df.daily_OPS)\n",
    "tpc"
   ]
  },
  {
   "cell_type": "code",
   "execution_count": null,
   "id": "b36e3825",
   "metadata": {},
   "outputs": [],
   "source": []
  }
 ],
 "metadata": {
  "kernelspec": {
   "display_name": "Python 3",
   "language": "python",
   "name": "python3"
  },
  "language_info": {
   "codemirror_mode": {
    "name": "ipython",
    "version": 3
   },
   "file_extension": ".py",
   "mimetype": "text/x-python",
   "name": "python",
   "nbconvert_exporter": "python",
   "pygments_lexer": "ipython3",
   "version": "3.8.10"
  }
 },
 "nbformat": 4,
 "nbformat_minor": 5
}
